{
  "nbformat": 4,
  "nbformat_minor": 0,
  "metadata": {
    "colab": {
      "private_outputs": true,
      "provenance": []
    },
    "kernelspec": {
      "name": "python3",
      "display_name": "Python 3"
    },
    "language_info": {
      "name": "python"
    }
  },
  "cells": [
    {
      "cell_type": "code",
      "execution_count": null,
      "metadata": {
        "id": "2CZ7L8ZREPyo"
      },
      "outputs": [],
      "source": [
        "import pandas as pd\n",
        "import seaborn as sns\n",
        "import matplotlib.pyplot as plt\n",
        "from matplotlib import style\n",
        "from sklearn.model_selection import train_test_split\n",
        "from sklearn.linear_model import LinearRegression"
      ]
    },
    {
      "cell_type": "code",
      "source": [
        "df = pd.read_csv(\"Medical_insurance.csv\")"
      ],
      "metadata": {
        "id": "UvnSV0pZEdzX"
      },
      "execution_count": null,
      "outputs": []
    },
    {
      "cell_type": "code",
      "source": [
        "df.head()"
      ],
      "metadata": {
        "id": "a-FrX5bpEh2-"
      },
      "execution_count": null,
      "outputs": []
    },
    {
      "cell_type": "code",
      "source": [
        "df.shape"
      ],
      "metadata": {
        "id": "4QzZjRkuEmbY"
      },
      "execution_count": null,
      "outputs": []
    },
    {
      "cell_type": "code",
      "source": [
        "df.info()"
      ],
      "metadata": {
        "id": "E_AT58IHE2Vc"
      },
      "execution_count": null,
      "outputs": []
    },
    {
      "cell_type": "code",
      "source": [
        "df.isnull().sum()"
      ],
      "metadata": {
        "id": "DjQygKh1FEV9"
      },
      "execution_count": null,
      "outputs": []
    },
    {
      "cell_type": "code",
      "source": [
        "df.columns"
      ],
      "metadata": {
        "id": "5GPfAwowFF-n"
      },
      "execution_count": null,
      "outputs": []
    },
    {
      "cell_type": "code",
      "source": [
        "df = df.drop(columns=['id'])"
      ],
      "metadata": {
        "id": "nlWHLLAmFLSL"
      },
      "execution_count": null,
      "outputs": []
    },
    {
      "cell_type": "code",
      "source": [
        "df.describe()"
      ],
      "metadata": {
        "id": "koeeDv8GFPGr"
      },
      "execution_count": null,
      "outputs": []
    },
    {
      "cell_type": "code",
      "source": [
        "plt.figure(figsize=(5,5))\n",
        "style.use('ggplot')\n",
        "sns.countplot(x='gender', data=df)\n",
        "plt.title('Gender Distribution')\n",
        "plt.show()"
      ],
      "metadata": {
        "id": "H_eeeaW5F3PX"
      },
      "execution_count": null,
      "outputs": []
    },
    {
      "cell_type": "code",
      "source": [
        "plt.figure(figsize=(5,5))\n",
        "sns.countplot(x='smoker', data=df)\n",
        "plt.title('Smoker')\n",
        "plt.show()"
      ],
      "metadata": {
        "id": "h7rWtADnF93h"
      },
      "execution_count": null,
      "outputs": []
    },
    {
      "cell_type": "code",
      "source": [
        "plt.figure(figsize=(5,5))\n",
        "sns.countplot(x='region', data=df)\n",
        "plt.title('Region')\n",
        "plt.show()"
      ],
      "metadata": {
        "id": "1MpE8krBGQSB"
      },
      "execution_count": null,
      "outputs": []
    },
    {
      "cell_type": "code",
      "source": [
        "plt.figure(figsize=(5,5))\n",
        "sns.barplot(x='region', y='charges', data=df)\n",
        "plt.title('Cost vs Region')"
      ],
      "metadata": {
        "id": "Z0pRa9EYHQ4Y"
      },
      "execution_count": null,
      "outputs": []
    },
    {
      "cell_type": "code",
      "source": [
        "plt.figure(figsize=(5,5))\n",
        "sns.barplot(x='gender', y='charges',hue='smoker', data=df)\n",
        "plt.title('Charges for smokers')"
      ],
      "metadata": {
        "id": "cklOM5RHHVbx"
      },
      "execution_count": null,
      "outputs": []
    },
    {
      "cell_type": "code",
      "source": [
        "fig, axes = plt.subplots(1,3, figsize=(15,5), sharey=True)\n",
        "fig.suptitle('Visualizing categorical columns')\n",
        "sns.boxenplot(x='smoker', y= 'charges', data=df, ax=axes[0])\n",
        "sns.boxenplot(x='gender', y= 'charges', data=df, ax=axes[1])\n",
        "sns.boxenplot(x='region', y= 'charges', data=df, ax=axes[2])"
      ],
      "metadata": {
        "id": "bV4d-vtAHbEA"
      },
      "execution_count": null,
      "outputs": []
    },
    {
      "cell_type": "code",
      "source": [
        "df[['age','bmi','children','charges']].hist(bins=30, figsize=(10,10), color='blue')\n",
        "plt.show()"
      ],
      "metadata": {
        "id": "6_m-CqaWHexE"
      },
      "execution_count": null,
      "outputs": []
    },
    {
      "cell_type": "code",
      "source": [
        "df.head()"
      ],
      "metadata": {
        "id": "2K5xkHWDHlqp"
      },
      "execution_count": null,
      "outputs": []
    },
    {
      "cell_type": "code",
      "source": [
        "df['gender'] = df['gender'].apply({'male':0, 'female':1}.get)\n",
        "df['smoker'] = df['smoker'].apply({'yes':1, 'no':0}.get)\n",
        "df['region'] = df['region'].apply({'southwest':1, 'southeast':2, 'northwest':3, 'northeast':4}.get)\n"
      ],
      "metadata": {
        "id": "VVGTM84MHx5n"
      },
      "execution_count": null,
      "outputs": []
    },
    {
      "cell_type": "code",
      "source": [
        "df.head()\n"
      ],
      "metadata": {
        "id": "HAJCutNaH36O"
      },
      "execution_count": null,
      "outputs": []
    },
    {
      "cell_type": "code",
      "source": [
        "plt.figure(figsize=(10,7))\n",
        "sns.heatmap(df.corr(), annot = True)\n",
        "plt.show()"
      ],
      "metadata": {
        "id": "BoF97lBXH9mB"
      },
      "execution_count": null,
      "outputs": []
    },
    {
      "cell_type": "code",
      "source": [
        "X = df.drop(['charges', 'gender'], axis=1)\n",
        "y = df.charges"
      ],
      "metadata": {
        "id": "wCKtqP7fIBQo"
      },
      "execution_count": null,
      "outputs": []
    },
    {
      "cell_type": "code",
      "source": [
        "X_train, X_test, y_train, y_test = train_test_split(X,y, test_size=0.3, random_state=42)\n",
        "print(\"X_train shape: \", X_train.shape)\n",
        "print(\"X_test shape: \", X_test.shape)\n",
        "print(\"y_train shpae: \", y_train.shape)\n",
        "print(\"y_test shape: \", y_test.shape)"
      ],
      "metadata": {
        "id": "zeh6UYZXIEqS"
      },
      "execution_count": null,
      "outputs": []
    },
    {
      "cell_type": "code",
      "source": [
        "linreg = LinearRegression()\n"
      ],
      "metadata": {
        "id": "7EetqHaiIHmi"
      },
      "execution_count": null,
      "outputs": []
    },
    {
      "cell_type": "code",
      "source": [
        "linreg.fit(X_train, y_train)\n",
        "pred = linreg.predict(X_test)"
      ],
      "metadata": {
        "id": "FncGcdHsIMpL"
      },
      "execution_count": null,
      "outputs": []
    },
    {
      "cell_type": "code",
      "source": [
        "from sklearn.metrics import r2_score"
      ],
      "metadata": {
        "id": "HjtqiJNVIuqf"
      },
      "execution_count": null,
      "outputs": []
    },
    {
      "cell_type": "code",
      "source": [
        "print(\"R2 score: \",(r2_score(y_test, pred)))"
      ],
      "metadata": {
        "id": "WsJyzBECIyCW"
      },
      "execution_count": null,
      "outputs": []
    },
    {
      "cell_type": "code",
      "source": [
        "plt.scatter(y_test, pred)\n",
        "plt.xlabel('Y test')\n",
        "plt.ylabel('Y pred')\n",
        "plt.show()"
      ],
      "metadata": {
        "id": "5xp-S6zzI1sc"
      },
      "execution_count": null,
      "outputs": []
    },
    {
      "cell_type": "code",
      "source": [
        "data = {'age':50, 'bmi':25, 'children':2, 'smoker':1, 'region':2}\n",
        "index = [0]\n",
        "cust_df = pd.DataFrame(data, index)\n",
        "cust_df"
      ],
      "metadata": {
        "id": "Dyx7lqo3I6YH"
      },
      "execution_count": null,
      "outputs": []
    },
    {
      "cell_type": "code",
      "source": [
        "cost_pred = linreg.predict(cust_df)\n",
        "print(\"The medical insurance cost of the new customer is: \", cost_pred)"
      ],
      "metadata": {
        "id": "f_Yx5m7_JTYt"
      },
      "execution_count": null,
      "outputs": []
    }
  ]
}